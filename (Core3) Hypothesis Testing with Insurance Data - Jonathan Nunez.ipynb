{
 "cells": [
  {
   "cell_type": "markdown",
   "id": "32e72da1",
   "metadata": {},
   "source": [
    "# Assignment\n",
    "- Q1. Do smokers have higher insurance charges than non-smokers?\n",
    "- Q2. Are men more likely to smoke than women?\n",
    "- Q3. Do different regions have different charges, on average?\n",
    "\n",
    "\n",
    "**For each question, make sure to:**\n",
    "\n",
    "1. State your Null Hypothesis and Alternative Hypothesis\n",
    "2. Select the correct test according to the data type and number of samples\n",
    "3. Test the assumptions of your selected test.\n",
    "4. Execute the selected test, or the alternative test (if you do not meet the assumptions)\n",
    "5. Interpret your p-value and reject or fail to reject your null hypothesis \n",
    "6. Show a supporting visualization that helps display the result"
   ]
  },
  {
   "cell_type": "markdown",
   "id": "34531bd5",
   "metadata": {},
   "source": [
    "# Load Libraries/Data"
   ]
  },
  {
   "cell_type": "code",
   "execution_count": 1,
   "id": "96a7b50f",
   "metadata": {},
   "outputs": [],
   "source": [
    "import pandas as pd\n",
    "import numpy as np\n",
    "import matplotlib.pyplot as plt\n",
    "import matplotlib as mpl\n",
    "import seaborn as sns\n",
    "\n",
    "from scipy import stats\n",
    "\n",
    "import warnings\n",
    "warnings.filterwarnings('ignore')"
   ]
  },
  {
   "cell_type": "code",
   "execution_count": 74,
   "id": "d1640e8f",
   "metadata": {},
   "outputs": [
    {
     "data": {
      "text/html": [
       "<div>\n",
       "<style scoped>\n",
       "    .dataframe tbody tr th:only-of-type {\n",
       "        vertical-align: middle;\n",
       "    }\n",
       "\n",
       "    .dataframe tbody tr th {\n",
       "        vertical-align: top;\n",
       "    }\n",
       "\n",
       "    .dataframe thead th {\n",
       "        text-align: right;\n",
       "    }\n",
       "</style>\n",
       "<table border=\"1\" class=\"dataframe\">\n",
       "  <thead>\n",
       "    <tr style=\"text-align: right;\">\n",
       "      <th></th>\n",
       "      <th>age</th>\n",
       "      <th>sex</th>\n",
       "      <th>bmi</th>\n",
       "      <th>children</th>\n",
       "      <th>smoker</th>\n",
       "      <th>region</th>\n",
       "      <th>charges</th>\n",
       "    </tr>\n",
       "  </thead>\n",
       "  <tbody>\n",
       "    <tr>\n",
       "      <th>0</th>\n",
       "      <td>19</td>\n",
       "      <td>female</td>\n",
       "      <td>27.900</td>\n",
       "      <td>0</td>\n",
       "      <td>yes</td>\n",
       "      <td>southwest</td>\n",
       "      <td>16884.92400</td>\n",
       "    </tr>\n",
       "    <tr>\n",
       "      <th>1</th>\n",
       "      <td>18</td>\n",
       "      <td>male</td>\n",
       "      <td>33.770</td>\n",
       "      <td>1</td>\n",
       "      <td>no</td>\n",
       "      <td>southeast</td>\n",
       "      <td>1725.55230</td>\n",
       "    </tr>\n",
       "    <tr>\n",
       "      <th>2</th>\n",
       "      <td>28</td>\n",
       "      <td>male</td>\n",
       "      <td>33.000</td>\n",
       "      <td>3</td>\n",
       "      <td>no</td>\n",
       "      <td>southeast</td>\n",
       "      <td>4449.46200</td>\n",
       "    </tr>\n",
       "    <tr>\n",
       "      <th>3</th>\n",
       "      <td>33</td>\n",
       "      <td>male</td>\n",
       "      <td>22.705</td>\n",
       "      <td>0</td>\n",
       "      <td>no</td>\n",
       "      <td>northwest</td>\n",
       "      <td>21984.47061</td>\n",
       "    </tr>\n",
       "    <tr>\n",
       "      <th>4</th>\n",
       "      <td>32</td>\n",
       "      <td>male</td>\n",
       "      <td>28.880</td>\n",
       "      <td>0</td>\n",
       "      <td>no</td>\n",
       "      <td>northwest</td>\n",
       "      <td>3866.85520</td>\n",
       "    </tr>\n",
       "    <tr>\n",
       "      <th>...</th>\n",
       "      <td>...</td>\n",
       "      <td>...</td>\n",
       "      <td>...</td>\n",
       "      <td>...</td>\n",
       "      <td>...</td>\n",
       "      <td>...</td>\n",
       "      <td>...</td>\n",
       "    </tr>\n",
       "    <tr>\n",
       "      <th>1333</th>\n",
       "      <td>50</td>\n",
       "      <td>male</td>\n",
       "      <td>30.970</td>\n",
       "      <td>3</td>\n",
       "      <td>no</td>\n",
       "      <td>northwest</td>\n",
       "      <td>10600.54830</td>\n",
       "    </tr>\n",
       "    <tr>\n",
       "      <th>1334</th>\n",
       "      <td>18</td>\n",
       "      <td>female</td>\n",
       "      <td>31.920</td>\n",
       "      <td>0</td>\n",
       "      <td>no</td>\n",
       "      <td>northeast</td>\n",
       "      <td>2205.98080</td>\n",
       "    </tr>\n",
       "    <tr>\n",
       "      <th>1335</th>\n",
       "      <td>18</td>\n",
       "      <td>female</td>\n",
       "      <td>36.850</td>\n",
       "      <td>0</td>\n",
       "      <td>no</td>\n",
       "      <td>southeast</td>\n",
       "      <td>1629.83350</td>\n",
       "    </tr>\n",
       "    <tr>\n",
       "      <th>1336</th>\n",
       "      <td>21</td>\n",
       "      <td>female</td>\n",
       "      <td>25.800</td>\n",
       "      <td>0</td>\n",
       "      <td>no</td>\n",
       "      <td>southwest</td>\n",
       "      <td>2007.94500</td>\n",
       "    </tr>\n",
       "    <tr>\n",
       "      <th>1337</th>\n",
       "      <td>61</td>\n",
       "      <td>female</td>\n",
       "      <td>29.070</td>\n",
       "      <td>0</td>\n",
       "      <td>yes</td>\n",
       "      <td>northwest</td>\n",
       "      <td>29141.36030</td>\n",
       "    </tr>\n",
       "  </tbody>\n",
       "</table>\n",
       "<p>1338 rows × 7 columns</p>\n",
       "</div>"
      ],
      "text/plain": [
       "      age     sex     bmi  children smoker     region      charges\n",
       "0      19  female  27.900         0    yes  southwest  16884.92400\n",
       "1      18    male  33.770         1     no  southeast   1725.55230\n",
       "2      28    male  33.000         3     no  southeast   4449.46200\n",
       "3      33    male  22.705         0     no  northwest  21984.47061\n",
       "4      32    male  28.880         0     no  northwest   3866.85520\n",
       "...   ...     ...     ...       ...    ...        ...          ...\n",
       "1333   50    male  30.970         3     no  northwest  10600.54830\n",
       "1334   18  female  31.920         0     no  northeast   2205.98080\n",
       "1335   18  female  36.850         0     no  southeast   1629.83350\n",
       "1336   21  female  25.800         0     no  southwest   2007.94500\n",
       "1337   61  female  29.070         0    yes  northwest  29141.36030\n",
       "\n",
       "[1338 rows x 7 columns]"
      ]
     },
     "execution_count": 74,
     "metadata": {},
     "output_type": "execute_result"
    }
   ],
   "source": [
    "df = pd.read_csv('Data/insurance - insurance.csv')\n",
    "df"
   ]
  },
  {
   "cell_type": "markdown",
   "id": "0d28da30",
   "metadata": {},
   "source": [
    "# **Q1. Do smokers have higher insurance charges than non-smokers?**"
   ]
  },
  {
   "cell_type": "code",
   "execution_count": 23,
   "id": "c4abe3aa",
   "metadata": {},
   "outputs": [],
   "source": [
    "smoke_df = df[df['smoker'] == 'yes']\n",
    "no_smoke_df = df[df['smoker'] == 'no']"
   ]
  },
  {
   "cell_type": "code",
   "execution_count": 24,
   "id": "a4a2fd47",
   "metadata": {},
   "outputs": [
    {
     "data": {
      "image/png": "[encoded data removed]",
      "text/plain": [
       "<Figure size 640x480 with 1 Axes>"
      ]
     },
     "metadata": {},
     "output_type": "display_data"
    }
   ],
   "source": [
    "sns.barplot(data=df, x='smoker', y='charges');"
   ]
  },
  {
   "cell_type": "markdown",
   "id": "fc9cbdcb",
   "metadata": {},
   "source": [
    "## 1. State your Null Hypothesis and Alternative Hypothesis\n",
    "- **Null Hypothesis**: smokers and non-smokers are charged for insurance at the same rate\n",
    "\n",
    "\n",
    "- **Alternative Hypothesis**: smokers and non-smokers are charged differently for insurance\n",
    "    - Could be that smokers are charged more\n",
    "    \n",
    "\n",
    "- Alpha = 0.05"
   ]
  },
  {
   "cell_type": "markdown",
   "id": "094c8b54",
   "metadata": {},
   "source": [
    "## 2. Select the correct test according to the data type and number of samples\n",
    "- Independent T-test\n",
    "    - 2 samples are compared"
   ]
  },
  {
   "cell_type": "markdown",
   "id": "e91db5d4",
   "metadata": {},
   "source": [
    "## 3. Test the assumptions of your selected test"
   ]
  },
  {
   "cell_type": "markdown",
   "id": "53b04be7",
   "metadata": {},
   "source": [
    "### Outliers"
   ]
  },
  {
   "cell_type": "code",
   "execution_count": 25,
   "id": "d77218dc",
   "metadata": {},
   "outputs": [
    {
     "name": "stdout",
     "output_type": "stream",
     "text": [
      "Number of rows: 274\n",
      "Number of outliers: 0\n",
      "Number of rows: 274\n"
     ]
    }
   ],
   "source": [
    "#smokers\n",
    "print(f'Number of rows: {len(smoke_df)}')\n",
    "\n",
    "z_smokers = stats.zscore(smoke_df['charges'])\n",
    "outliers_smokers = abs(z_smokers)>3\n",
    "\n",
    "print(f'Number of outliers: {np.sum(outliers_smokers)}')\n",
    "\n",
    "smoke_df = smoke_df[~outliers_smokers]\n",
    "print(f'Number of rows: {len(smoke_df)}')"
   ]
  },
  {
   "cell_type": "code",
   "execution_count": 26,
   "id": "400bcb75",
   "metadata": {},
   "outputs": [
    {
     "name": "stdout",
     "output_type": "stream",
     "text": [
      "Number of rows: 1064\n",
      "Number of outliers: 24\n",
      "Number of rows: 1040\n"
     ]
    }
   ],
   "source": [
    "#non-smokers\n",
    "print(f'Number of rows: {len(no_smoke_df)}')\n",
    "\n",
    "z_non_smokers = stats.zscore(no_smoke_df['charges'])\n",
    "outliers_no_smokers = abs(z_non_smokers)>3\n",
    "\n",
    "print(f'Number of outliers: {np.sum(outliers_no_smokers)}')\n",
    "\n",
    "no_smoke_df = no_smoke_df[~outliers_no_smokers]\n",
    "print(f'Number of rows: {len(no_smoke_df)}')"
   ]
  },
  {
   "cell_type": "markdown",
   "id": "8e162e64",
   "metadata": {},
   "source": [
    "### Normality\n",
    "- Normality is not met\n",
    "- Sample size > 15 for both groups\n",
    "    - Can proceed"
   ]
  },
  {
   "cell_type": "code",
   "execution_count": 27,
   "id": "eb794776",
   "metadata": {},
   "outputs": [
    {
     "data": {
      "text/plain": [
       "NormaltestResult(statistic=61.03941356533816, pvalue=5.564930630036463e-14)"
      ]
     },
     "execution_count": 27,
     "metadata": {},
     "output_type": "execute_result"
    }
   ],
   "source": [
    "norm_smoker = stats.normaltest(smoke_df['charges'])\n",
    "norm_smoker"
   ]
  },
  {
   "cell_type": "code",
   "execution_count": 28,
   "id": "b9ee10c7",
   "metadata": {},
   "outputs": [
    {
     "data": {
      "text/plain": [
       "NormaltestResult(statistic=163.80367047789198, pvalue=2.6945416315543976e-36)"
      ]
     },
     "execution_count": 28,
     "metadata": {},
     "output_type": "execute_result"
    }
   ],
   "source": [
    "norm_non_smoker = stats.normaltest(no_smoke_df['charges'])\n",
    "norm_non_smoker"
   ]
  },
  {
   "cell_type": "markdown",
   "id": "d7b56712",
   "metadata": {},
   "source": [
    "### Equal Variance\n",
    "- Equal Variance is not met\n",
    "- Will add `equal_var=False` to argument for `ttest_ind`"
   ]
  },
  {
   "cell_type": "code",
   "execution_count": 29,
   "id": "2327771f",
   "metadata": {},
   "outputs": [
    {
     "data": {
      "text/plain": [
       "LeveneResult(statistic=520.7468821724297, pvalue=2.4247238784347824e-97)"
      ]
     },
     "execution_count": 29,
     "metadata": {},
     "output_type": "execute_result"
    }
   ],
   "source": [
    "equal_var = stats.levene(smoke_df['charges'], no_smoke_df['charges'])\n",
    "equal_var"
   ]
  },
  {
   "cell_type": "markdown",
   "id": "3ce5e271",
   "metadata": {},
   "source": [
    "## 4. Execute the selected test, or the alternative test (if you do not meet the assumptions)"
   ]
  },
  {
   "cell_type": "code",
   "execution_count": 32,
   "id": "448882f3",
   "metadata": {},
   "outputs": [
    {
     "data": {
      "text/plain": [
       "Ttest_indResult(statistic=33.732305987092516, pvalue=2.575322662587431e-104)"
      ]
     },
     "execution_count": 32,
     "metadata": {},
     "output_type": "execute_result"
    }
   ],
   "source": [
    "result1 = stats.ttest_ind(smoke_df['charges'], no_smoke_df['charges'], equal_var=False)\n",
    "result1"
   ]
  },
  {
   "cell_type": "code",
   "execution_count": 33,
   "id": "96944244",
   "metadata": {},
   "outputs": [
    {
     "name": "stdout",
     "output_type": "stream",
     "text": [
      "p-value=0.0000000000\n",
      "Significant: True\n"
     ]
    }
   ],
   "source": [
    "## is our result significant\n",
    "print(f\"p-value={result1.pvalue:.10f}\")\n",
    "print(f\"Significant: {result1.pvalue <.05}\")"
   ]
  },
  {
   "cell_type": "markdown",
   "id": "ac20173c",
   "metadata": {},
   "source": [
    "## 5. Interpret your p-value and reject or fail to reject your null hypothesis \n",
    "- p-value is significantly less than alpha (0.05)\n",
    "- Reject null hypothesis and accept that there is a significant difference in insurance charges between smokers and non-smokers"
   ]
  },
  {
   "cell_type": "markdown",
   "id": "c2199e9a",
   "metadata": {},
   "source": [
    "## 6. Show a supporting visualization that helps display the result"
   ]
  },
  {
   "cell_type": "code",
   "execution_count": 38,
   "id": "2c7c7279",
   "metadata": {},
   "outputs": [
    {
     "data": {
      "image/png": "[encoded data removed]",
      "text/plain": [
       "<Figure size 1500x1000 with 2 Axes>"
      ]
     },
     "metadata": {},
     "output_type": "display_data"
    }
   ],
   "source": [
    "smoker_palette={'no':'dodgerblue', 'yes':'salmon'}\n",
    "\n",
    "## Visualizing Sample means\n",
    "fig, (ax,ax_bar) = plt.subplots(figsize= (15, 10), ncols=2, \n",
    "                                constrained_layout=True,\n",
    "                                gridspec_kw={'width_ratios':[0.8,0.2]})\n",
    "\n",
    "# Histogram\n",
    "ax = sns.histplot(data=df, x='charges',fill=True,hue='smoker',kde=True,\n",
    "                  stat='density',common_norm=False,ax=ax,\n",
    "                  palette=smoker_palette)\n",
    "\n",
    "ax.axvline(np.mean(no_smoke_df['charges']), ls='--',lw=3, \n",
    "           label=f\"Non-Smoker (Mean={np.mean(no_smoke_df['charges']):.2f})\",color=smoker_palette['no'])\n",
    "\n",
    "ax.axvline(np.mean(smoke_df['charges']), ls='--', lw=3, \n",
    "           label=f\"Smoker (Mean={np.mean(smoke_df['charges']):.2f})\",color=smoker_palette['yes'])\n",
    "\n",
    "ax.legend(prop={\"size\":14}, loc='upper right')#bbox_to_anchor=[1,1])\n",
    "## Barplot\n",
    "sns.barplot(data=df, x='smoker',y='charges',ax = ax_bar,palette=smoker_palette)\n",
    "fig.suptitle('Comparison of Insurance Charges by Smoking Status',fontsize='xx-large')\n",
    "fig.tight_layout();"
   ]
  },
  {
   "cell_type": "markdown",
   "id": "cefeeea4",
   "metadata": {},
   "source": [
    "# **Q2. Are men more likely to smoke than women?**"
   ]
  },
  {
   "cell_type": "code",
   "execution_count": 41,
   "id": "c9f90b1d",
   "metadata": {},
   "outputs": [
    {
     "data": {
      "text/html": [
       "<div>\n",
       "<style scoped>\n",
       "    .dataframe tbody tr th:only-of-type {\n",
       "        vertical-align: middle;\n",
       "    }\n",
       "\n",
       "    .dataframe tbody tr th {\n",
       "        vertical-align: top;\n",
       "    }\n",
       "\n",
       "    .dataframe thead th {\n",
       "        text-align: right;\n",
       "    }\n",
       "</style>\n",
       "<table border=\"1\" class=\"dataframe\">\n",
       "  <thead>\n",
       "    <tr style=\"text-align: right;\">\n",
       "      <th></th>\n",
       "      <th>age</th>\n",
       "      <th>sex</th>\n",
       "      <th>bmi</th>\n",
       "      <th>children</th>\n",
       "      <th>smoker</th>\n",
       "      <th>region</th>\n",
       "      <th>charges</th>\n",
       "    </tr>\n",
       "  </thead>\n",
       "  <tbody>\n",
       "    <tr>\n",
       "      <th>0</th>\n",
       "      <td>19</td>\n",
       "      <td>female</td>\n",
       "      <td>27.900</td>\n",
       "      <td>0</td>\n",
       "      <td>yes</td>\n",
       "      <td>southwest</td>\n",
       "      <td>16884.92400</td>\n",
       "    </tr>\n",
       "    <tr>\n",
       "      <th>1</th>\n",
       "      <td>18</td>\n",
       "      <td>male</td>\n",
       "      <td>33.770</td>\n",
       "      <td>1</td>\n",
       "      <td>no</td>\n",
       "      <td>southeast</td>\n",
       "      <td>1725.55230</td>\n",
       "    </tr>\n",
       "    <tr>\n",
       "      <th>2</th>\n",
       "      <td>28</td>\n",
       "      <td>male</td>\n",
       "      <td>33.000</td>\n",
       "      <td>3</td>\n",
       "      <td>no</td>\n",
       "      <td>southeast</td>\n",
       "      <td>4449.46200</td>\n",
       "    </tr>\n",
       "    <tr>\n",
       "      <th>3</th>\n",
       "      <td>33</td>\n",
       "      <td>male</td>\n",
       "      <td>22.705</td>\n",
       "      <td>0</td>\n",
       "      <td>no</td>\n",
       "      <td>northwest</td>\n",
       "      <td>21984.47061</td>\n",
       "    </tr>\n",
       "    <tr>\n",
       "      <th>4</th>\n",
       "      <td>32</td>\n",
       "      <td>male</td>\n",
       "      <td>28.880</td>\n",
       "      <td>0</td>\n",
       "      <td>no</td>\n",
       "      <td>northwest</td>\n",
       "      <td>3866.85520</td>\n",
       "    </tr>\n",
       "  </tbody>\n",
       "</table>\n",
       "</div>"
      ],
      "text/plain": [
       "   age     sex     bmi  children smoker     region      charges\n",
       "0   19  female  27.900         0    yes  southwest  16884.92400\n",
       "1   18    male  33.770         1     no  southeast   1725.55230\n",
       "2   28    male  33.000         3     no  southeast   4449.46200\n",
       "3   33    male  22.705         0     no  northwest  21984.47061\n",
       "4   32    male  28.880         0     no  northwest   3866.85520"
      ]
     },
     "execution_count": 41,
     "metadata": {},
     "output_type": "execute_result"
    }
   ],
   "source": [
    "df.head()"
   ]
  },
  {
   "cell_type": "code",
   "execution_count": 42,
   "id": "9ed42fb0",
   "metadata": {},
   "outputs": [],
   "source": [
    "men_smoke = df.loc[df['sex'] == 'male', 'smoker']\n",
    "women_smoke = df.loc[df['sex'] == 'female', 'smoker']"
   ]
  },
  {
   "cell_type": "markdown",
   "id": "6f26c376",
   "metadata": {},
   "source": [
    "## 1. State your Null Hypothesis and Alternative Hypothesis\n",
    "- **Null Hypothesis**: there is no difference in the rate of smokers between men and women\n",
    "\n",
    "\n",
    "- **Alternative Hypothesis**: there is a difference in the rate of smokers between men and women\n",
    "\n",
    "\n",
    "- Alpha: 0.05"
   ]
  },
  {
   "cell_type": "markdown",
   "id": "9b7a1890",
   "metadata": {},
   "source": [
    "## 2. Select the correct test according to the data type and number of samples\n",
    "- Chi-Square\n",
    "    - Categorical data with 2 groups"
   ]
  },
  {
   "cell_type": "markdown",
   "id": "ffebc0a9",
   "metadata": {},
   "source": [
    "## 3. Test the assumptions of your selected test"
   ]
  },
  {
   "cell_type": "markdown",
   "id": "a24fa8c4",
   "metadata": {},
   "source": [
    "### Two Categorical Variables (Ordinal or Nominal)\n",
    "- Meets assumption\n",
    "- Two categorical variables:\n",
    "    - 'sex': male or female\n",
    "    - 'smoker': yes or no"
   ]
  },
  {
   "cell_type": "markdown",
   "id": "49a3cd61",
   "metadata": {},
   "source": [
    "### Independent Outcomes"
   ]
  },
  {
   "cell_type": "code",
   "execution_count": 49,
   "id": "8167a8c1",
   "metadata": {},
   "outputs": [
    {
     "data": {
      "text/html": [
       "<div>\n",
       "<style scoped>\n",
       "    .dataframe tbody tr th:only-of-type {\n",
       "        vertical-align: middle;\n",
       "    }\n",
       "\n",
       "    .dataframe tbody tr th {\n",
       "        vertical-align: top;\n",
       "    }\n",
       "\n",
       "    .dataframe thead th {\n",
       "        text-align: right;\n",
       "    }\n",
       "</style>\n",
       "<table border=\"1\" class=\"dataframe\">\n",
       "  <thead>\n",
       "    <tr style=\"text-align: right;\">\n",
       "      <th>smoker</th>\n",
       "      <th>no</th>\n",
       "      <th>yes</th>\n",
       "    </tr>\n",
       "    <tr>\n",
       "      <th>sex</th>\n",
       "      <th></th>\n",
       "      <th></th>\n",
       "    </tr>\n",
       "  </thead>\n",
       "  <tbody>\n",
       "    <tr>\n",
       "      <th>female</th>\n",
       "      <td>547</td>\n",
       "      <td>115</td>\n",
       "    </tr>\n",
       "    <tr>\n",
       "      <th>male</th>\n",
       "      <td>517</td>\n",
       "      <td>159</td>\n",
       "    </tr>\n",
       "  </tbody>\n",
       "</table>\n",
       "</div>"
      ],
      "text/plain": [
       "smoker   no  yes\n",
       "sex             \n",
       "female  547  115\n",
       "male    517  159"
      ]
     },
     "execution_count": 49,
     "metadata": {},
     "output_type": "execute_result"
    }
   ],
   "source": [
    "table = pd.crosstab(df['sex'], df['smoker'])\n",
    "table"
   ]
  },
  {
   "cell_type": "markdown",
   "id": "fa1026af",
   "metadata": {},
   "source": [
    "## 4. Execute the selected test, or the alternative test (if you do not meet the assumptions)"
   ]
  },
  {
   "cell_type": "code",
   "execution_count": 50,
   "id": "147c31f2",
   "metadata": {},
   "outputs": [],
   "source": [
    "result2 = stats.chi2_contingency(table)\n",
    "chi2, p, deg_free, expected_vals = result2"
   ]
  },
  {
   "cell_type": "code",
   "execution_count": 51,
   "id": "8bfe2a14",
   "metadata": {},
   "outputs": [
    {
     "name": "stdout",
     "output_type": "stream",
     "text": [
      "0.006548143503580696\n"
     ]
    },
    {
     "data": {
      "text/plain": [
       "True"
      ]
     },
     "execution_count": 51,
     "metadata": {},
     "output_type": "execute_result"
    }
   ],
   "source": [
    "print(p)\n",
    "p < 0.05"
   ]
  },
  {
   "cell_type": "markdown",
   "id": "5e6719c9",
   "metadata": {},
   "source": [
    "## 5. Interpret your p-value and reject or fail to reject your null hypothesis \n",
    "- p-value is less than alpha (0.05)\n",
    "    - There is a significant result\n",
    "- Reject null hypothesis and accept that there is a difference in the rate of smokers between males and females"
   ]
  },
  {
   "cell_type": "markdown",
   "id": "27bbbd58",
   "metadata": {},
   "source": [
    "## 6. Show a supporting visualization that helps display the result"
   ]
  },
  {
   "cell_type": "code",
   "execution_count": 52,
   "id": "16afa831",
   "metadata": {},
   "outputs": [
    {
     "data": {
      "image/png": "[encoded data removed]",
      "text/plain": [
       "<Figure size 640x480 with 1 Axes>"
      ]
     },
     "metadata": {},
     "output_type": "display_data"
    }
   ],
   "source": [
    "ax = sns.countplot(data=df, x='sex',hue='smoker',)\n",
    "ax.set_title(\"Number of Smokers by Sex\");"
   ]
  },
  {
   "cell_type": "markdown",
   "id": "cd5ca526",
   "metadata": {},
   "source": [
    "# **Q3. Do different regions have different charges, on average?**"
   ]
  },
  {
   "cell_type": "code",
   "execution_count": 53,
   "id": "e6c4d5c7",
   "metadata": {},
   "outputs": [
    {
     "data": {
      "text/html": [
       "<div>\n",
       "<style scoped>\n",
       "    .dataframe tbody tr th:only-of-type {\n",
       "        vertical-align: middle;\n",
       "    }\n",
       "\n",
       "    .dataframe tbody tr th {\n",
       "        vertical-align: top;\n",
       "    }\n",
       "\n",
       "    .dataframe thead th {\n",
       "        text-align: right;\n",
       "    }\n",
       "</style>\n",
       "<table border=\"1\" class=\"dataframe\">\n",
       "  <thead>\n",
       "    <tr style=\"text-align: right;\">\n",
       "      <th></th>\n",
       "      <th>age</th>\n",
       "      <th>sex</th>\n",
       "      <th>bmi</th>\n",
       "      <th>children</th>\n",
       "      <th>smoker</th>\n",
       "      <th>region</th>\n",
       "      <th>charges</th>\n",
       "    </tr>\n",
       "  </thead>\n",
       "  <tbody>\n",
       "    <tr>\n",
       "      <th>0</th>\n",
       "      <td>19</td>\n",
       "      <td>female</td>\n",
       "      <td>27.90</td>\n",
       "      <td>0</td>\n",
       "      <td>yes</td>\n",
       "      <td>southwest</td>\n",
       "      <td>16884.9240</td>\n",
       "    </tr>\n",
       "    <tr>\n",
       "      <th>1</th>\n",
       "      <td>18</td>\n",
       "      <td>male</td>\n",
       "      <td>33.77</td>\n",
       "      <td>1</td>\n",
       "      <td>no</td>\n",
       "      <td>southeast</td>\n",
       "      <td>1725.5523</td>\n",
       "    </tr>\n",
       "  </tbody>\n",
       "</table>\n",
       "</div>"
      ],
      "text/plain": [
       "   age     sex    bmi  children smoker     region     charges\n",
       "0   19  female  27.90         0    yes  southwest  16884.9240\n",
       "1   18    male  33.77         1     no  southeast   1725.5523"
      ]
     },
     "execution_count": 53,
     "metadata": {},
     "output_type": "execute_result"
    }
   ],
   "source": [
    "df.head(2)"
   ]
  },
  {
   "cell_type": "code",
   "execution_count": 54,
   "id": "ac0f7a2b",
   "metadata": {},
   "outputs": [
    {
     "data": {
      "text/plain": [
       "southeast    364\n",
       "southwest    325\n",
       "northwest    325\n",
       "northeast    324\n",
       "Name: region, dtype: int64"
      ]
     },
     "execution_count": 54,
     "metadata": {},
     "output_type": "execute_result"
    }
   ],
   "source": [
    "df['region'].value_counts()"
   ]
  },
  {
   "cell_type": "markdown",
   "id": "c233e98a",
   "metadata": {},
   "source": [
    "## Separating Groups for Convenience"
   ]
  },
  {
   "cell_type": "code",
   "execution_count": 75,
   "id": "f6b0acd1",
   "metadata": {},
   "outputs": [
    {
     "data": {
      "text/plain": [
       "dict_keys(['southwest', 'southeast', 'northwest', 'northeast'])"
      ]
     },
     "execution_count": 75,
     "metadata": {},
     "output_type": "execute_result"
    }
   ],
   "source": [
    "groups = {}\n",
    "## Loop through all unique categories\n",
    "for i in df['region'].unique():\n",
    "    ## Get series for group and rename\n",
    "    data = df.loc[df['region']==i,'charges'].copy()\n",
    "    \n",
    "    # save into the dictionary\n",
    "    groups[i] = data\n",
    "groups.keys()"
   ]
  },
  {
   "cell_type": "markdown",
   "id": "6aec9856",
   "metadata": {},
   "source": [
    "## 1. State your Null Hypothesis and Alternative Hypothesis\n",
    "- **Null Hypothesis**: there is no difference in average charges between regions\n",
    "\n",
    "\n",
    "- **Alternative Hypothesis**: there is a difference in average charges between regions\n",
    "\n",
    "\n",
    "- Alpha: 0.05"
   ]
  },
  {
   "cell_type": "markdown",
   "id": "b762df59",
   "metadata": {},
   "source": [
    "## 2. Select the correct test according to the data type and number of samples\n",
    "- ANOVA\n",
    "    - There are more than 2 groups (4 total)\n",
    "    - Comparing numeric averages ('charges')"
   ]
  },
  {
   "cell_type": "markdown",
   "id": "c5980e16",
   "metadata": {},
   "source": [
    "## 3. Test the assumptions of your selected test"
   ]
  },
  {
   "cell_type": "markdown",
   "id": "0afdcaff",
   "metadata": {},
   "source": [
    "### Outliers"
   ]
  },
  {
   "cell_type": "code",
   "execution_count": 76,
   "id": "7214aa28",
   "metadata": {},
   "outputs": [
    {
     "data": {
      "text/plain": [
       "0       16884.92400\n",
       "12       1826.84300\n",
       "15       1837.23700\n",
       "18      10602.38500\n",
       "19      36837.46700\n",
       "           ...     \n",
       "1316     1731.67700\n",
       "1329    10325.20600\n",
       "1331    10795.93733\n",
       "1332    11411.68500\n",
       "1336     2007.94500\n",
       "Name: charges, Length: 325, dtype: float64"
      ]
     },
     "execution_count": 76,
     "metadata": {},
     "output_type": "execute_result"
    }
   ],
   "source": [
    "groups['southwest']"
   ]
  },
  {
   "cell_type": "code",
   "execution_count": 77,
   "id": "98a8602a",
   "metadata": {},
   "outputs": [
    {
     "name": "stdout",
     "output_type": "stream",
     "text": [
      "southwest - Number of rows: 325\n",
      "southwest - Number of outliers: 8\n",
      "southwest - Number of rows: 317\n",
      "\n",
      "southeast - Number of rows: 364\n",
      "southeast - Number of outliers: 2\n",
      "southeast - Number of rows: 362\n",
      "\n",
      "northwest - Number of rows: 325\n",
      "northwest - Number of outliers: 7\n",
      "northwest - Number of rows: 318\n",
      "\n",
      "northeast - Number of rows: 324\n",
      "northeast - Number of outliers: 4\n",
      "northeast - Number of rows: 320\n",
      "\n"
     ]
    }
   ],
   "source": [
    "for i in groups:\n",
    "    print(f'{i} - Number of rows: {len(groups[i])}')\n",
    "    z_score = stats.zscore(groups[i])\n",
    "    outliers = abs(z_score)>3\n",
    "    print(f'{i} - Number of outliers: {np.sum(outliers)}')\n",
    "    \n",
    "    groups[i] = groups[i][~outliers]\n",
    "    print(f'{i} - Number of rows: {len(groups[i])}')\n",
    "    print('')"
   ]
  },
  {
   "cell_type": "markdown",
   "id": "55290a1f",
   "metadata": {},
   "source": [
    "### Normality\n",
    "- Does not meet Normality Assumption\n",
    "- Can continue since there are 4 groups and each groups is greater than or equal to 15 samples"
   ]
  },
  {
   "cell_type": "code",
   "execution_count": 78,
   "id": "d69c54dd",
   "metadata": {},
   "outputs": [
    {
     "data": {
      "text/html": [
       "<div>\n",
       "<style scoped>\n",
       "    .dataframe tbody tr th:only-of-type {\n",
       "        vertical-align: middle;\n",
       "    }\n",
       "\n",
       "    .dataframe tbody tr th {\n",
       "        vertical-align: top;\n",
       "    }\n",
       "\n",
       "    .dataframe thead th {\n",
       "        text-align: right;\n",
       "    }\n",
       "</style>\n",
       "<table border=\"1\" class=\"dataframe\">\n",
       "  <thead>\n",
       "    <tr style=\"text-align: right;\">\n",
       "      <th></th>\n",
       "      <th>n</th>\n",
       "      <th>p</th>\n",
       "      <th>test stat</th>\n",
       "    </tr>\n",
       "  </thead>\n",
       "  <tbody>\n",
       "    <tr>\n",
       "      <th>southwest</th>\n",
       "      <td>317.0</td>\n",
       "      <td>7.728611e-22</td>\n",
       "      <td>97.223886</td>\n",
       "    </tr>\n",
       "    <tr>\n",
       "      <th>southeast</th>\n",
       "      <td>362.0</td>\n",
       "      <td>1.936990e-13</td>\n",
       "      <td>58.544942</td>\n",
       "    </tr>\n",
       "    <tr>\n",
       "      <th>northwest</th>\n",
       "      <td>318.0</td>\n",
       "      <td>2.940543e-19</td>\n",
       "      <td>85.341045</td>\n",
       "    </tr>\n",
       "    <tr>\n",
       "      <th>northeast</th>\n",
       "      <td>320.0</td>\n",
       "      <td>3.557877e-17</td>\n",
       "      <td>75.749565</td>\n",
       "    </tr>\n",
       "  </tbody>\n",
       "</table>\n",
       "</div>"
      ],
      "text/plain": [
       "               n             p  test stat\n",
       "southwest  317.0  7.728611e-22  97.223886\n",
       "southeast  362.0  1.936990e-13  58.544942\n",
       "northwest  318.0  2.940543e-19  85.341045\n",
       "northeast  320.0  3.557877e-17  75.749565"
      ]
     },
     "execution_count": 78,
     "metadata": {},
     "output_type": "execute_result"
    }
   ],
   "source": [
    "## Running normal test on each group and confirming there are >20 in each group\n",
    "norm_results = {}\n",
    "for i, data in groups.items():\n",
    "    stat, p = stats.normaltest(data)\n",
    "    ## save the p val, test statistic, and the size of the group\n",
    "    norm_results[i] = {'n': len(data),\n",
    "                             'p':p,\n",
    "                             'test stat':stat,}\n",
    "## convert to a dataframe\n",
    "norm_results_df = pd.DataFrame(norm_results).T\n",
    "norm_results_df"
   ]
  },
  {
   "cell_type": "code",
   "execution_count": 79,
   "id": "f662fb44",
   "metadata": {},
   "outputs": [
    {
     "data": {
      "text/html": [
       "<div>\n",
       "<style scoped>\n",
       "    .dataframe tbody tr th:only-of-type {\n",
       "        vertical-align: middle;\n",
       "    }\n",
       "\n",
       "    .dataframe tbody tr th {\n",
       "        vertical-align: top;\n",
       "    }\n",
       "\n",
       "    .dataframe thead th {\n",
       "        text-align: right;\n",
       "    }\n",
       "</style>\n",
       "<table border=\"1\" class=\"dataframe\">\n",
       "  <thead>\n",
       "    <tr style=\"text-align: right;\">\n",
       "      <th></th>\n",
       "      <th>n</th>\n",
       "      <th>p</th>\n",
       "      <th>test stat</th>\n",
       "      <th>sig</th>\n",
       "    </tr>\n",
       "  </thead>\n",
       "  <tbody>\n",
       "    <tr>\n",
       "      <th>southwest</th>\n",
       "      <td>317.0</td>\n",
       "      <td>7.728611e-22</td>\n",
       "      <td>97.223886</td>\n",
       "      <td>True</td>\n",
       "    </tr>\n",
       "    <tr>\n",
       "      <th>southeast</th>\n",
       "      <td>362.0</td>\n",
       "      <td>1.936990e-13</td>\n",
       "      <td>58.544942</td>\n",
       "      <td>True</td>\n",
       "    </tr>\n",
       "    <tr>\n",
       "      <th>northwest</th>\n",
       "      <td>318.0</td>\n",
       "      <td>2.940543e-19</td>\n",
       "      <td>85.341045</td>\n",
       "      <td>True</td>\n",
       "    </tr>\n",
       "    <tr>\n",
       "      <th>northeast</th>\n",
       "      <td>320.0</td>\n",
       "      <td>3.557877e-17</td>\n",
       "      <td>75.749565</td>\n",
       "      <td>True</td>\n",
       "    </tr>\n",
       "  </tbody>\n",
       "</table>\n",
       "</div>"
      ],
      "text/plain": [
       "               n             p  test stat   sig\n",
       "southwest  317.0  7.728611e-22  97.223886  True\n",
       "southeast  362.0  1.936990e-13  58.544942  True\n",
       "northwest  318.0  2.940543e-19  85.341045  True\n",
       "northeast  320.0  3.557877e-17  75.749565  True"
      ]
     },
     "execution_count": 79,
     "metadata": {},
     "output_type": "execute_result"
    }
   ],
   "source": [
    "### checking sig with pandas \n",
    "norm_results_df['sig'] = norm_results_df['p'] < .05 \n",
    "norm_results_df"
   ]
  },
  {
   "cell_type": "markdown",
   "id": "e851e722",
   "metadata": {},
   "source": [
    "### Equal Variance\n",
    "- Failed to meet equal variance assumption\n",
    "    - p-value < 0.05\n",
    "- Will use Nonparametric Test: **Kruskal-Wallis**"
   ]
  },
  {
   "cell_type": "code",
   "execution_count": 80,
   "id": "39d2183d",
   "metadata": {},
   "outputs": [
    {
     "data": {
      "text/plain": [
       "LeveneResult(statistic=9.518349004554441, pvalue=3.2035503711783993e-06)"
      ]
     },
     "execution_count": 80,
     "metadata": {},
     "output_type": "execute_result"
    }
   ],
   "source": [
    "# with the * operator \n",
    "stats.levene(*groups.values())"
   ]
  },
  {
   "cell_type": "markdown",
   "id": "26e73641",
   "metadata": {},
   "source": [
    "## 4. Execute the selected test, or the alternative test (if you do not meet the assumptions)"
   ]
  },
  {
   "cell_type": "code",
   "execution_count": 81,
   "id": "51c23e16",
   "metadata": {},
   "outputs": [
    {
     "data": {
      "text/plain": [
       "KruskalResult(statistic=6.914045702545643, pvalue=0.07468847911322242)"
      ]
     },
     "execution_count": 81,
     "metadata": {},
     "output_type": "execute_result"
    }
   ],
   "source": [
    "result3 = stats.kruskal( *groups.values())\n",
    "result3"
   ]
  },
  {
   "cell_type": "markdown",
   "id": "cd339988",
   "metadata": {},
   "source": [
    "## 5. Interpret your p-value and reject or fail to reject your null hypothesis\n",
    "- p-value > 0.05; will fail to reject null hypothesis\n",
    "    - Accept that there is no difference in average charges between regions"
   ]
  },
  {
   "cell_type": "markdown",
   "id": "8b818161",
   "metadata": {},
   "source": [
    "## 6. Show a supporting visualization that helps display the result"
   ]
  },
  {
   "cell_type": "code",
   "execution_count": 84,
   "id": "95d4f9dc",
   "metadata": {},
   "outputs": [
    {
     "data": {
      "image/png": "[encoded data removed]",
      "text/plain": [
       "<Figure size 640x480 with 1 Axes>"
      ]
     },
     "metadata": {},
     "output_type": "display_data"
    }
   ],
   "source": [
    "ax = sns.barplot(data=df, x='region', y='charges')\n",
    "ax.set_title('Average Charges per Region');"
   ]
  },
  {
   "cell_type": "code",
   "execution_count": null,
   "id": "04ecee6e",
   "metadata": {},
   "outputs": [],
   "source": []
  }
 ],
 "metadata": {
  "kernelspec": {
   "display_name": "Python (dojo-env)",
   "language": "python",
   "name": "dojo-env"
  },
  "language_info": {
   "codemirror_mode": {
    "name": "ipython",
    "version": 3
   },
   "file_extension": ".py",
   "mimetype": "text/x-python",
   "name": "python",
   "nbconvert_exporter": "python",
   "pygments_lexer": "ipython3",
   "version": "3.9.15"
  },
  "toc": {
   "base_numbering": 1,
   "nav_menu": {},
   "number_sections": false,
   "sideBar": true,
   "skip_h1_title": false,
   "title_cell": "Table of Contents",
   "title_sidebar": "Contents",
   "toc_cell": false,
   "toc_position": {
    "height": "calc(100% - 180px)",
    "left": "10px",
    "top": "150px",
    "width": "330.509px"
   },
   "toc_section_display": true,
   "toc_window_display": true
  },
  "varInspector": {
   "cols": {
    "lenName": 16,
    "lenType": 16,
    "lenVar": 40
   },
   "kernels_config": {
    "python": {
     "delete_cmd_postfix": "",
     "delete_cmd_prefix": "del ",
     "library": "var_list.py",
     "varRefreshCmd": "print(var_dic_list())"
    },
    "r": {
     "delete_cmd_postfix": ") ",
     "delete_cmd_prefix": "rm(",
     "library": "var_list.r",
     "varRefreshCmd": "cat(var_dic_list()) "
    }
   },
   "types_to_exclude": [
    "module",
    "function",
    "builtin_function_or_method",
    "instance",
    "_Feature"
   ],
   "window_display": false
  }
 },
 "nbformat": 4,
 "nbformat_minor": 5
}
